{
 "cells": [
  {
   "cell_type": "code",
   "execution_count": 3,
   "metadata": {},
   "outputs": [
    {
     "name": "stdout",
     "output_type": "stream",
     "text": [
      "89\n"
     ]
    }
   ],
   "source": [
    "import csv\n",
    "import pandas as pd\n",
    "import json\n",
    "import numpy as np\n",
    "import os\n",
    "from IPython.display import clear_output\n",
    "\n",
    "ultimate_dict ={}\n",
    "\n",
    "def getvalues(PATH) :\n",
    "    \n",
    "    filenames = os.listdir(PATH)\n",
    "    ultimate_dict = {}\n",
    "    foldernames = os.listdir(PATH)\n",
    "\n",
    "    myFields = [  'Abstract','pubdate']\n",
    "    df = pd.DataFrame(columns = [ 'Abstract','pubdate'])\n",
    "\n",
    "    count = 0\n",
    "    for folder in foldernames:\n",
    "        filenames = os.listdir(PATH + folder)\n",
    "        for file in filenames:\n",
    "            \n",
    "            with open(PATH + folder + '\\\\' +file,encoding=\"ISO-8859-1\") as f:\n",
    "                data1 = {}\n",
    "                for line in f:\n",
    "                    data1 = json.loads(line)\n",
    "                    break\n",
    "                    #print(data1)\n",
    "\n",
    "\n",
    "\n",
    "                \n",
    "\n",
    "\n",
    "                try:\n",
    "                    ultimate_dict['Abstract']= (data1['citation']['abstract'])\n",
    "\n",
    "                except KeyError:\n",
    "                    ultimate_dict['Abstract']=np.NaN\n",
    "\n",
    "                try:\n",
    "                    ultimate_dict['pubdate']=(data1['citation']['pubdate'])\n",
    "                except KeyError:\n",
    "                    ultimate_dict['pubdate']=np.NaN\n",
    "\n",
    "\n",
    "                df.loc[-1] = ultimate_dict  # adding a row\n",
    "                df.index = df.index + 1  # shifting index\n",
    "                df = df.sort_index()\n",
    "                df = df.dropna(axis=0, how='any')\n",
    "                print(count)\n",
    "                count = count +1\n",
    "                clear_output(wait=True)\n",
    "\n",
    "    clean_df = df.dropna(axis=0,how = 'any')\n",
    "    clean_df[myFields].to_csv('C:\\\\Users\\\\Divya\\\\Desktop\\\\Datafiles\\\\test_date\\\\testing_withpubdate', index = None, header = True)\n",
    "\n",
    "\n",
    "PATH = 'C:\\\\Users\\\\Divya\\\\Desktop\\\\Datafiles\\\\test_date\\\\' \n",
    "#PATH = 'C:\\\\Users\\\\Sandesh\\\\Desktop\\\\altmetric_clean_sample\\\\' \n",
    "getvalues(PATH)"
   ]
  },
  {
   "cell_type": "code",
   "execution_count": null,
   "metadata": {},
   "outputs": [],
   "source": []
  }
 ],
 "metadata": {
  "kernelspec": {
   "display_name": "Python 3",
   "language": "python",
   "name": "python3"
  },
  "language_info": {
   "codemirror_mode": {
    "name": "ipython",
    "version": 3
   },
   "file_extension": ".py",
   "mimetype": "text/x-python",
   "name": "python",
   "nbconvert_exporter": "python",
   "pygments_lexer": "ipython3",
   "version": "3.7.3"
  }
 },
 "nbformat": 4,
 "nbformat_minor": 2
}
